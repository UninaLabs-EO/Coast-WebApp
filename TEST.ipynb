{
 "cells": [
  {
   "cell_type": "code",
   "execution_count": 30,
   "metadata": {},
   "outputs": [
    {
     "data": {
      "text/plain": [
       "[0,\n",
       " 1,\n",
       " 2,\n",
       " 3,\n",
       " 4,\n",
       " 5,\n",
       " 6,\n",
       " 7,\n",
       " 8,\n",
       " 9,\n",
       " 10,\n",
       " 11,\n",
       " 12,\n",
       " 13,\n",
       " 14,\n",
       " 15,\n",
       " 16,\n",
       " 17,\n",
       " 18,\n",
       " 19,\n",
       " 20,\n",
       " 21,\n",
       " 22,\n",
       " 23,\n",
       " 24,\n",
       " 25,\n",
       " 26,\n",
       " 27,\n",
       " 28,\n",
       " 29,\n",
       " 30,\n",
       " 31,\n",
       " 32,\n",
       " 33,\n",
       " 34,\n",
       " 35,\n",
       " 36,\n",
       " 37,\n",
       " 38,\n",
       " 39,\n",
       " 40,\n",
       " 41,\n",
       " 42,\n",
       " 43,\n",
       " 44,\n",
       " 45,\n",
       " 46,\n",
       " 47,\n",
       " 48,\n",
       " 49,\n",
       " 50,\n",
       " 51,\n",
       " 52,\n",
       " 53,\n",
       " 54,\n",
       " 55,\n",
       " 56,\n",
       " 57,\n",
       " 58,\n",
       " 59,\n",
       " 60,\n",
       " 61,\n",
       " 62,\n",
       " 63,\n",
       " 64,\n",
       " 65,\n",
       " 66,\n",
       " 67,\n",
       " 68,\n",
       " 69]"
      ]
     },
     "execution_count": 30,
     "metadata": {},
     "output_type": "execute_result"
    }
   ],
   "source": [
    "import pandas as pd\n",
    "\n",
    "df = pd.read_csv('apps\\\\templates\\\\home\\\\CSK-SAO\\\\ALL_Adriatic_CSK-SAO.csv')\n",
    "Adriatico = df.to_dict()\n",
    "df['Unnamed: 0'].to_list()"
   ]
  },
  {
   "cell_type": "code",
   "execution_count": 7,
   "metadata": {},
   "outputs": [
    {
     "data": {
      "text/plain": [
       "dict_keys(['Unnamed: 0', 'CSK', 'SAO', 'IoU', 'geometry'])"
      ]
     },
     "execution_count": 7,
     "metadata": {},
     "output_type": "execute_result"
    }
   ],
   "source": [
    "Adriatico.keys()"
   ]
  },
  {
   "cell_type": "code",
   "execution_count": 31,
   "metadata": {},
   "outputs": [
    {
     "data": {
      "text/plain": [
       "['apps\\\\templates\\\\home\\\\Adriatico\\\\CSK-SAO\\\\id_0__sparse.html',\n",
       " 'apps\\\\templates\\\\home\\\\Adriatico\\\\CSK-SAO\\\\id_1__sparse.html',\n",
       " 'apps\\\\templates\\\\home\\\\Adriatico\\\\CSK-SAO\\\\id_2__matched.html',\n",
       " 'apps\\\\templates\\\\home\\\\Adriatico\\\\CSK-SAO\\\\id_3__matched.html',\n",
       " 'apps\\\\templates\\\\home\\\\Adriatico\\\\CSK-SAO\\\\id_4__sparse.html',\n",
       " 'apps\\\\templates\\\\home\\\\Adriatico\\\\CSK-SAO\\\\id_5__sparse.html',\n",
       " 'apps\\\\templates\\\\home\\\\Adriatico\\\\CSK-SAO\\\\id_6__sparse.html',\n",
       " 'apps\\\\templates\\\\home\\\\Adriatico\\\\CSK-SAO\\\\id_7__sparse.html',\n",
       " 'apps\\\\templates\\\\home\\\\Adriatico\\\\CSK-SAO\\\\id_8__sparse.html',\n",
       " 'apps\\\\templates\\\\home\\\\Adriatico\\\\CSK-SAO\\\\id_9__sparse.html',\n",
       " 'apps\\\\templates\\\\home\\\\Adriatico\\\\CSK-SAO\\\\id_10__sparse.html',\n",
       " 'apps\\\\templates\\\\home\\\\Adriatico\\\\CSK-SAO\\\\id_11__sparse.html',\n",
       " 'apps\\\\templates\\\\home\\\\Adriatico\\\\CSK-SAO\\\\id_12__sparse.html',\n",
       " 'apps\\\\templates\\\\home\\\\Adriatico\\\\CSK-SAO\\\\id_13__sparse.html',\n",
       " 'apps\\\\templates\\\\home\\\\Adriatico\\\\CSK-SAO\\\\id_14__matched.html',\n",
       " 'apps\\\\templates\\\\home\\\\Adriatico\\\\CSK-SAO\\\\id_15__matched.html',\n",
       " 'apps\\\\templates\\\\home\\\\Adriatico\\\\CSK-SAO\\\\id_16__sparse.html',\n",
       " 'apps\\\\templates\\\\home\\\\Adriatico\\\\CSK-SAO\\\\id_17__sparse.html',\n",
       " 'apps\\\\templates\\\\home\\\\Adriatico\\\\CSK-SAO\\\\id_18__sparse.html',\n",
       " 'apps\\\\templates\\\\home\\\\Adriatico\\\\CSK-SAO\\\\id_19__sparse.html',\n",
       " 'apps\\\\templates\\\\home\\\\Adriatico\\\\CSK-SAO\\\\id_20__sparse.html',\n",
       " 'apps\\\\templates\\\\home\\\\Adriatico\\\\CSK-SAO\\\\id_21__sparse.html',\n",
       " 'apps\\\\templates\\\\home\\\\Adriatico\\\\CSK-SAO\\\\id_22__sparse.html',\n",
       " 'apps\\\\templates\\\\home\\\\Adriatico\\\\CSK-SAO\\\\id_23__sparse.html',\n",
       " 'apps\\\\templates\\\\home\\\\Adriatico\\\\CSK-SAO\\\\id_24__sparse.html',\n",
       " 'apps\\\\templates\\\\home\\\\Adriatico\\\\CSK-SAO\\\\id_25__sparse.html',\n",
       " 'apps\\\\templates\\\\home\\\\Adriatico\\\\CSK-SAO\\\\id_26__sparse.html',\n",
       " 'apps\\\\templates\\\\home\\\\Adriatico\\\\CSK-SAO\\\\id_27__sparse.html',\n",
       " 'apps\\\\templates\\\\home\\\\Adriatico\\\\CSK-SAO\\\\id_28__sparse.html',\n",
       " 'apps\\\\templates\\\\home\\\\Adriatico\\\\CSK-SAO\\\\id_29__matched.html',\n",
       " 'apps\\\\templates\\\\home\\\\Adriatico\\\\CSK-SAO\\\\id_30__matched.html',\n",
       " 'apps\\\\templates\\\\home\\\\Adriatico\\\\CSK-SAO\\\\id_31__matched.html',\n",
       " 'apps\\\\templates\\\\home\\\\Adriatico\\\\CSK-SAO\\\\id_32__sparse.html',\n",
       " 'apps\\\\templates\\\\home\\\\Adriatico\\\\CSK-SAO\\\\id_33__sparse.html',\n",
       " 'apps\\\\templates\\\\home\\\\Adriatico\\\\CSK-SAO\\\\id_34__matched.html',\n",
       " 'apps\\\\templates\\\\home\\\\Adriatico\\\\CSK-SAO\\\\id_35__matched.html',\n",
       " 'apps\\\\templates\\\\home\\\\Adriatico\\\\CSK-SAO\\\\id_36__matched.html',\n",
       " 'apps\\\\templates\\\\home\\\\Adriatico\\\\CSK-SAO\\\\id_37__matched.html',\n",
       " 'apps\\\\templates\\\\home\\\\Adriatico\\\\CSK-SAO\\\\id_38__matched.html',\n",
       " 'apps\\\\templates\\\\home\\\\Adriatico\\\\CSK-SAO\\\\id_39__matched.html',\n",
       " 'apps\\\\templates\\\\home\\\\Adriatico\\\\CSK-SAO\\\\id_40__matched.html',\n",
       " 'apps\\\\templates\\\\home\\\\Adriatico\\\\CSK-SAO\\\\id_41__sparse.html',\n",
       " 'apps\\\\templates\\\\home\\\\Adriatico\\\\CSK-SAO\\\\id_42__sparse.html',\n",
       " 'apps\\\\templates\\\\home\\\\Adriatico\\\\CSK-SAO\\\\id_43__sparse.html',\n",
       " 'apps\\\\templates\\\\home\\\\Adriatico\\\\CSK-SAO\\\\id_44__sparse.html',\n",
       " 'apps\\\\templates\\\\home\\\\Adriatico\\\\CSK-SAO\\\\id_45__sparse.html',\n",
       " 'apps\\\\templates\\\\home\\\\Adriatico\\\\CSK-SAO\\\\id_46__sparse.html',\n",
       " 'apps\\\\templates\\\\home\\\\Adriatico\\\\CSK-SAO\\\\id_47__sparse.html',\n",
       " 'apps\\\\templates\\\\home\\\\Adriatico\\\\CSK-SAO\\\\id_48__sparse.html',\n",
       " 'apps\\\\templates\\\\home\\\\Adriatico\\\\CSK-SAO\\\\id_49__matched.html',\n",
       " 'apps\\\\templates\\\\home\\\\Adriatico\\\\CSK-SAO\\\\id_50__matched.html',\n",
       " 'apps\\\\templates\\\\home\\\\Adriatico\\\\CSK-SAO\\\\id_51__matched.html',\n",
       " 'apps\\\\templates\\\\home\\\\Adriatico\\\\CSK-SAO\\\\id_52__sparse.html',\n",
       " 'apps\\\\templates\\\\home\\\\Adriatico\\\\CSK-SAO\\\\id_53__matched.html',\n",
       " 'apps\\\\templates\\\\home\\\\Adriatico\\\\CSK-SAO\\\\id_54__matched.html',\n",
       " 'apps\\\\templates\\\\home\\\\Adriatico\\\\CSK-SAO\\\\id_55__sparse.html',\n",
       " 'apps\\\\templates\\\\home\\\\Adriatico\\\\CSK-SAO\\\\id_56__sparse.html',\n",
       " 'apps\\\\templates\\\\home\\\\Adriatico\\\\CSK-SAO\\\\id_57__sparse.html',\n",
       " 'apps\\\\templates\\\\home\\\\Adriatico\\\\CSK-SAO\\\\id_58__matched.html',\n",
       " 'apps\\\\templates\\\\home\\\\Adriatico\\\\CSK-SAO\\\\id_59__matched.html',\n",
       " 'apps\\\\templates\\\\home\\\\Adriatico\\\\CSK-SAO\\\\id_60__matched.html',\n",
       " 'apps\\\\templates\\\\home\\\\Adriatico\\\\CSK-SAO\\\\id_61__sparse.html',\n",
       " 'apps\\\\templates\\\\home\\\\Adriatico\\\\CSK-SAO\\\\id_62__sparse.html',\n",
       " 'apps\\\\templates\\\\home\\\\Adriatico\\\\CSK-SAO\\\\id_63__sparse.html',\n",
       " 'apps\\\\templates\\\\home\\\\Adriatico\\\\CSK-SAO\\\\id_64__sparse.html',\n",
       " 'apps\\\\templates\\\\home\\\\Adriatico\\\\CSK-SAO\\\\id_65__sparse.html',\n",
       " 'apps\\\\templates\\\\home\\\\Adriatico\\\\CSK-SAO\\\\id_66__sparse.html',\n",
       " 'apps\\\\templates\\\\home\\\\Adriatico\\\\CSK-SAO\\\\id_67__sparse.html',\n",
       " 'apps\\\\templates\\\\home\\\\Adriatico\\\\CSK-SAO\\\\id_68__sparse.html',\n",
       " 'apps\\\\templates\\\\home\\\\Adriatico\\\\CSK-SAO\\\\id_69__sparse.html']"
      ]
     },
     "execution_count": 31,
     "metadata": {},
     "output_type": "execute_result"
    }
   ],
   "source": [
    "from glob import glob\n",
    "\n",
    "hrefs = glob('apps\\\\templates\\\\home\\\\Adriatico\\\\CSK-SAO\\\\*.html')\n",
    "\n",
    "hrefs = sorted(hrefs, key=lambda x: int(x.split('_')[1].split('__')[0]))\n",
    "hrefs"
   ]
  }
 ],
 "metadata": {
  "interpreter": {
   "hash": "4f68396e49950b2d12b3e0c1832b02cc7cd4df2ab7a1b3d401c471a833d3bd0f"
  },
  "kernelspec": {
   "display_name": "Python 3.7.1 64-bit ('py37': conda)",
   "language": "python",
   "name": "python3"
  },
  "language_info": {
   "codemirror_mode": {
    "name": "ipython",
    "version": 3
   },
   "file_extension": ".py",
   "mimetype": "text/x-python",
   "name": "python",
   "nbconvert_exporter": "python",
   "pygments_lexer": "ipython3",
   "version": "3.7.1"
  },
  "orig_nbformat": 4
 },
 "nbformat": 4,
 "nbformat_minor": 2
}
